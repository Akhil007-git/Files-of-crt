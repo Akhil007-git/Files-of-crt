{
 "cells": [
  {
   "cell_type": "markdown",
   "metadata": {},
   "source": [
    "## Collection type : \n",
    "1. List--> list is indexed, mutable,ordered and duplication are aloowed \n",
    "2. Tuple--> indexed ,ordered,allows duplicate values,immutable\n",
    "3. Dictionary \n"
   ]
  },
  {
   "cell_type": "code",
   "execution_count": 22,
   "metadata": {},
   "outputs": [
    {
     "name": "stdout",
     "output_type": "stream",
     "text": [
      "[12, 56, 200, 25, 'akhil', 'akhil123', True, 45, 200, 300, 400]\n"
     ]
    }
   ],
   "source": [
    "list1 = [12,56,25,'akhil','akhil123',True]\n",
    "# adding the elements \n",
    "list1.append(45)\n",
    "list1.insert(2,200)\n",
    "list1.extend([200,300,400])\n",
    "print(list1)\n"
   ]
  },
  {
   "cell_type": "code",
   "execution_count": 24,
   "metadata": {},
   "outputs": [
    {
     "name": "stdout",
     "output_type": "stream",
     "text": [
      "[12, 56, 200, 25, 'akhil', 'akhil123', True, 45, 200, 300, 400]\n",
      "[12, 56, 200, 25, 'akhil', 'akhil123', True, 45, 200, 300]\n",
      "<class 'list'> akhil\n",
      "[12, 200, 25, 'akhil123', True, 45, 200, 300]\n"
     ]
    }
   ],
   "source": [
    "# removing elemets  from  list\n",
    "print(list1)\n",
    "del list1[-1]\n",
    "print(list1)\n",
    "# removing element with index\n",
    "r = list1.pop(4)\n",
    "print(list,r)\n",
    "# removing element without its index \n",
    "list1.remove(56)\n",
    "print(list1)"
   ]
  },
  {
   "cell_type": "code",
   "execution_count": 36,
   "metadata": {},
   "outputs": [
    {
     "data": {
      "text/plain": [
       "[12, 200, 25, 'akhil123', True, 45, 200, 300]"
      ]
     },
     "execution_count": 36,
     "metadata": {},
     "output_type": "execute_result"
    }
   ],
   "source": [
    "#replacing with index\n",
    "#sorting list in reverse order\n",
    "list2=[24,54,200]\n",
    "list2.sort(reverse=True)\n",
    "list2\n",
    "#copying and eqaulity \n",
    "# if we use copy the copied list will not be updated but if we use eqaul to the changes to first list changes will effect the copied list \n",
    "list3=list1.copy()\n",
    "list3"
   ]
  },
  {
   "cell_type": "code",
   "execution_count": 52,
   "metadata": {},
   "outputs": [
    {
     "name": "stdout",
     "output_type": "stream",
     "text": [
      "3\n",
      "75\n",
      "85\n",
      "96\n",
      "sum =  256\n",
      "96\n"
     ]
    }
   ],
   "source": [
    "# enert the 3 subjects marks of a student and store it in a sungle list and  then return total marks of a student \n",
    "n= int(input(''))\n",
    "marks =[]\n",
    "s=0\n",
    "for i in range(n):\n",
    "    marks.append(int(input()))\n",
    "print('sum = ',sum(marks))\n",
    "max = marks[0]\n",
    "for i in range(n):\n",
    "    if(marks[i]>max):\n",
    "        max= marks[i]\n",
    "print(max)\n",
    "\n",
    "\n",
    "    \n",
    "\n",
    "\n"
   ]
  },
  {
   "cell_type": "code",
   "execution_count": 1,
   "metadata": {},
   "outputs": [
    {
     "name": "stdout",
     "output_type": "stream",
     "text": [
      "3\n",
      "85\n",
      "96\n",
      "75\n",
      "second largest= 75\n",
      "sum =  256\n"
     ]
    }
   ],
   "source": [
    "# second largest\n",
    "\n",
    "n= int(input(''))\n",
    "marks =[]\n",
    "s=0\n",
    "for i in range(n):\n",
    "    marks.append(int(input()))\n",
    "marks.sort(reverse=True)\n",
    "print('second largest=',marks[2])\n",
    "    \n",
    "print('sum = ',sum(marks))\n",
    "max = marks[0]\n"
   ]
  },
  {
   "cell_type": "code",
   "execution_count": 16,
   "metadata": {},
   "outputs": [
    {
     "name": "stdout",
     "output_type": "stream",
     "text": [
      "(25, 54, 100, 69)\n"
     ]
    },
    {
     "data": {
      "text/plain": [
       "1"
      ]
     },
     "execution_count": 16,
     "metadata": {},
     "output_type": "execute_result"
    }
   ],
   "source": [
    "# when you want to change the tuple int list make the changes and then covert it again into tuple\n",
    "t1 = (25,54,58,69)\n",
    "l1 = list(t1)\n",
    "l1[2] =100\n",
    "t1 = tuple(l1)\n",
    "print(t1)\n",
    "t1.index(54)"
   ]
  },
  {
   "cell_type": "markdown",
   "metadata": {},
   "source": [
    "### 3.Dictionary \n",
    "    - dictionries are un orderd\n",
    "    "
   ]
  },
  {
   "cell_type": "code",
   "execution_count": 31,
   "metadata": {},
   "outputs": [
    {
     "data": {
      "text/plain": [
       "{'name': 'kumar', 'roll no': 221710301012, 'course': 'CSE', 'adrress': 'hyd'}"
      ]
     },
     "execution_count": 31,
     "metadata": {},
     "output_type": "execute_result"
    }
   ],
   "source": [
    "# Dictionary --> dict1= {key1:value ,key2:value,....}\n",
    "# keys rules : 1. keys should unique\n",
    "#              2. keys should be mutable\n",
    "#              3. key should be either number or string or a tuple\n",
    "s1= {'name':'akhil','roll no':221710301012,'course':'CSE','name':'kumar'}\n",
    "# adding an entry \n",
    "s1['adrress']='hyd'\n",
    "print(s1['name']) # the recent value will be selected\n",
    "s1 # edits it with recent value ex: here akhil is replaced with kumar\n",
    "# updating a dictionary"
   ]
  },
  {
   "cell_type": "code",
   "execution_count": 32,
   "metadata": {},
   "outputs": [
    {
     "data": {
      "text/plain": [
       "{'name': 'kumar', 'roll no': 221710301012, 'adrress': 'hyd'}"
      ]
     },
     "execution_count": 32,
     "metadata": {},
     "output_type": "execute_result"
    }
   ],
   "source": [
    "# removing an entry\n",
    "del s1['course']\n",
    "s1"
   ]
  },
  {
   "cell_type": "code",
   "execution_count": null,
   "metadata": {},
   "outputs": [],
   "source": []
  }
 ],
 "metadata": {
  "kernelspec": {
   "display_name": "Python 3",
   "language": "python",
   "name": "python3"
  },
  "language_info": {
   "codemirror_mode": {
    "name": "ipython",
    "version": 3
   },
   "file_extension": ".py",
   "mimetype": "text/x-python",
   "name": "python",
   "nbconvert_exporter": "python",
   "pygments_lexer": "ipython3",
   "version": "3.7.1"
  }
 },
 "nbformat": 4,
 "nbformat_minor": 2
}
